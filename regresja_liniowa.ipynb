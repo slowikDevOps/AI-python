{
 "cells": [
  {
   "cell_type": "code",
   "execution_count": 80,
   "metadata": {},
   "outputs": [
    {
     "name": "stdout",
     "output_type": "stream",
     "text": [
      "Liczba pomiarów to: 10\n"
     ]
    },
    {
     "data": {
      "image/png": "[encoded data removed]",
      "text/plain": [
       "<Figure size 432x288 with 1 Axes>"
      ]
     },
     "metadata": {},
     "output_type": "display_data"
    },
    {
     "data": {
      "text/html": [
       "<div>\n",
       "<style scoped>\n",
       "    .dataframe tbody tr th:only-of-type {\n",
       "        vertical-align: middle;\n",
       "    }\n",
       "\n",
       "    .dataframe tbody tr th {\n",
       "        vertical-align: top;\n",
       "    }\n",
       "\n",
       "    .dataframe thead th {\n",
       "        text-align: right;\n",
       "    }\n",
       "</style>\n",
       "<table border=\"1\" class=\"dataframe\">\n",
       "  <thead>\n",
       "    <tr style=\"text-align: right;\">\n",
       "      <th></th>\n",
       "      <th>X</th>\n",
       "      <th>Y</th>\n",
       "    </tr>\n",
       "  </thead>\n",
       "  <tbody>\n",
       "    <tr>\n",
       "      <th>0</th>\n",
       "      <td>4</td>\n",
       "      <td>4</td>\n",
       "    </tr>\n",
       "    <tr>\n",
       "      <th>1</th>\n",
       "      <td>2</td>\n",
       "      <td>-2</td>\n",
       "    </tr>\n",
       "    <tr>\n",
       "      <th>2</th>\n",
       "      <td>4</td>\n",
       "      <td>-1</td>\n",
       "    </tr>\n",
       "    <tr>\n",
       "      <th>3</th>\n",
       "      <td>0</td>\n",
       "      <td>6</td>\n",
       "    </tr>\n",
       "    <tr>\n",
       "      <th>4</th>\n",
       "      <td>3</td>\n",
       "      <td>4</td>\n",
       "    </tr>\n",
       "    <tr>\n",
       "      <th>5</th>\n",
       "      <td>0</td>\n",
       "      <td>4</td>\n",
       "    </tr>\n",
       "    <tr>\n",
       "      <th>6</th>\n",
       "      <td>4</td>\n",
       "      <td>2</td>\n",
       "    </tr>\n",
       "    <tr>\n",
       "      <th>7</th>\n",
       "      <td>0</td>\n",
       "      <td>2</td>\n",
       "    </tr>\n",
       "    <tr>\n",
       "      <th>8</th>\n",
       "      <td>4</td>\n",
       "      <td>-1</td>\n",
       "    </tr>\n",
       "    <tr>\n",
       "      <th>9</th>\n",
       "      <td>3</td>\n",
       "      <td>4</td>\n",
       "    </tr>\n",
       "  </tbody>\n",
       "</table>\n",
       "</div>"
      ],
      "text/plain": [
       "   X  Y\n",
       "0  4  4\n",
       "1  2 -2\n",
       "2  4 -1\n",
       "3  0  6\n",
       "4  3  4\n",
       "5  0  4\n",
       "6  4  2\n",
       "7  0  2\n",
       "8  4 -1\n",
       "9  3  4"
      ]
     },
     "execution_count": 80,
     "metadata": {},
     "output_type": "execute_result"
    }
   ],
   "source": [
    "%matplotlib inline\n",
    "import pandas as pd\n",
    "import matplotlib.pyplot as plt\n",
    "import random\n",
    "wartosc_MIN = -2\n",
    "wartosc_MAX = 7\n",
    "liczba_pomiarow = 10\n",
    "\n",
    "print(\"Liczba pomiarów to:\", liczba_pomiarow)\n",
    "df = pd.DataFrame()\n",
    "df['X'] = [random.randrange(wartosc_MIN, wartosc_MAX,1) for i in range(liczba_pomiarow)]\n",
    "df['Y'] = [random.randrange(wartosc_MIN, wartosc_MAX,1) for i in range(liczba_pomiarow)]\n",
    "\n",
    "\n",
    "plt.scatter(df['X'], df['Y'])\n",
    "plt.xlabel('Zbiór wartości X')\n",
    "plt.ylabel('Zbiór wartosci Y')\n",
    "plt.show()\n",
    "\n",
    "df\n"
   ]
  },
  {
   "cell_type": "code",
   "execution_count": 81,
   "metadata": {
    "scrolled": true
   },
   "outputs": [
    {
     "name": "stdout",
     "output_type": "stream",
     "text": [
      "Średnia wartość wygenerowanego zbioru X-ów:\n",
      " 2.4\n",
      "Średnia wartość wygenerowanego zbioru Y-ów:\n",
      " 2.2 \n",
      "\n",
      "------------------------------------------------------------------------------------------------------\n",
      "\n",
      "Odchylenie standardowe próby, czyli o ile średnio elementy zbioru, różnią się od średniej tego zbioru.\n",
      "Sx: 1.78\n",
      "Sy: 2.7 \n",
      "\n",
      "------------------------------------------------------------------------------------------------------\n",
      "\n",
      "Współczynnik korelacji Pearsona:\n",
      "\n",
      "n =  10\n",
      "\n",
      "    X   Y   y2  xy  x2\n",
      "0   4   4   16  16  16\n",
      "1   2  -2    4  -4   4\n",
      "2   4  -1    1  -4  16\n",
      "3   0   6   36   0   0\n",
      "4   3   4   16  12   9\n",
      "5   0   4   16   0   0\n",
      "6   4   2    4   8  16\n",
      "7   0   2    4   0   0\n",
      "8   4  -1    1  -4  16\n",
      "9   3   4   16  12   9\n",
      "Σ  24  22  114  36  86\n",
      "\n",
      "Współczynnik wynosi =  -0.39  wynik jest zaokrąglony do dwóch miejsc po przecinku.\n"
     ]
    }
   ],
   "source": [
    "from math import sqrt\n",
    "def srednia(zbior):\n",
    "    return int(zbior.sum()) / len(zbior)\n",
    "\n",
    "Mx = round(srednia(df['X']),2)\n",
    "My = round(srednia(df['Y']),2)\n",
    "\n",
    "print(\"Średnia wartość wygenerowanego zbioru X-ów:\\n\",Mx)\n",
    "print(\"Średnia wartość wygenerowanego zbioru Y-ów:\\n\",My,\"\\n\")\n",
    "print(\"------------------------------------------------------------------------------------------------------\\n\")\n",
    "print (\"Odchylenie standardowe próby, czyli o ile średnio elementy zbioru, różnią się od średniej tego zbioru.\")\n",
    "\n",
    "def odchylenie(zbior, srednia):\n",
    "    g = 0\n",
    "    for l in zbior:\n",
    "        g += (l - srednia) * (l - srednia)\n",
    "    return sqrt(g / (len(zbior) - 1))\n",
    "\n",
    "Sx = round(odchylenie(df['X'], Mx),2)\n",
    "Sy = round(odchylenie(df['Y'], My),2)\n",
    "\n",
    "\n",
    "\n",
    "print(\"Sx:\", Sx)\n",
    "print(\"Sy:\", Sy,\"\\n\")\n",
    "\n",
    "print(\"------------------------------------------------------------------------------------------------------\\n\")\n",
    "print (\"Współczynnik korelacji Pearsona:\\n\")\n",
    "\n",
    "n = len(df['X'])\n",
    "vr = pd.DataFrame(df[:])\n",
    "vr['y2'] = df['Y'] * df['Y']\n",
    "vr['xy'] = df['X'] * df['Y']\n",
    "vr['x2'] = df['X'] * df['X']\n",
    "vr['y2'] = df['Y'] * df['Y']\n",
    "vr.loc['Σ'] = vr.sum()\n",
    "\n",
    "print(\"n = \", n)\n",
    "print()\n",
    "print(vr)\n",
    "\n",
    "def wsp_korelacji_pearsona(n, ΣX, ΣY, Σxy, Σx2, Σy2):\n",
    "    return ( (n * Σxy - ΣX * ΣY) /\n",
    "             (sqrt((n * Σx2 - ΣX**2) * (n * Σy2 - ΣY**2))) )\n",
    "\n",
    "r = round(wsp_korelacji_pearsona(n, vr['X']['Σ'], vr['Y']['Σ'], vr['xy']['Σ'], vr['x2']['Σ'], vr['y2']['Σ']),2)\n",
    "print(\"\\nWspółczynnik wynosi = \", r,\" wynik jest zaokrąglony do dwóch miejsc po przecinku.\")\n",
    "\n"
   ]
  },
  {
   "cell_type": "code",
   "execution_count": 82,
   "metadata": {},
   "outputs": [
    {
     "name": "stdout",
     "output_type": "stream",
     "text": [
      "Obliczenie najlepiej pasującej linii:\n",
      "\n",
      "b =  -0.59\n",
      "a =  3.62\n"
     ]
    },
    {
     "data": {
      "image/png": "[encoded data removed]",
      "text/plain": [
       "<Figure size 432x288 with 1 Axes>"
      ]
     },
     "metadata": {},
     "output_type": "display_data"
    }
   ],
   "source": [
    "import numpy as np\n",
    "print(\"Obliczenie najlepiej pasującej linii:\\n\")\n",
    "b = round(r * (Sy / Sx),2)\n",
    "a = round(My - (b * Mx),2)\n",
    "print(\"b = \", b)\n",
    "print(\"a = \", a)\n",
    "\n",
    "def najlepiej_pasujaca_linia(x):\n",
    "    return (b * x) + a\n",
    "\n",
    "x = np.linspace(0, 5, 1000)\n",
    "plt.scatter(df['X'], df['Y'])\n",
    "plt.plot(x, najlepiej_pasujaca_linia(x), 'r')\n",
    "plt.xlabel('Zbiór wartości X')\n",
    "plt.ylabel('Zbiór wartości Y')\n",
    "plt.show()"
   ]
  },
  {
   "cell_type": "code",
   "execution_count": null,
   "metadata": {},
   "outputs": [],
   "source": []
  },
  {
   "cell_type": "code",
   "execution_count": null,
   "metadata": {},
   "outputs": [],
   "source": []
  }
 ],
 "metadata": {
  "kernelspec": {
   "display_name": "Python 3",
   "language": "python",
   "name": "python3"
  },
  "language_info": {
   "codemirror_mode": {
    "name": "ipython",
    "version": 3
   },
   "file_extension": ".py",
   "mimetype": "text/x-python",
   "name": "python",
   "nbconvert_exporter": "python",
   "pygments_lexer": "ipython3",
   "version": "3.6.5"
  }
 },
 "nbformat": 4,
 "nbformat_minor": 2
}
